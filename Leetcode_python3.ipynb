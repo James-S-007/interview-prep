{
 "cells": [
  {
   "cell_type": "markdown",
   "metadata": {},
   "source": [
    "# Leetcode Solutions with Python3\n",
    "\n",
    "___\n"
   ]
  },
  {
   "cell_type": "markdown",
   "metadata": {},
   "source": [
    "### 811. Subdomain Visit Count\n",
    "\n",
    "https://leetcode.com/problems/subdomain-visit-count/<br><br>\n",
    "\n",
    "A website domain \"discuss.leetcode.com\" consists of various subdomains. At the top level, we have \"com\", at the next level, we have \"leetcode.com\" and at the lowest level, \"discuss.leetcode.com\". When we visit a domain like \"discuss.leetcode.com\", we will also visit the parent domains \"leetcode.com\" and \"com\" implicitly.\n",
    "\n",
    "A count-paired domain is a domain that has one of the two formats \"rep d1.d2.d3\" or \"rep d1.d2\" where rep is the number of visits to the domain and d1.d2.d3 is the domain itself.\n",
    "\n",
    "For example, \"9001 discuss.leetcode.com\" is a count-paired domain that indicates that discuss.leetcode.com was visited 9001 times.\n",
    "Given an array of count-paired domains cpdomains, return an array of the count-paired domains of each subdomain in the input. You may return the answer in any order.\n"
   ]
  },
  {
   "cell_type": "code",
   "execution_count": 14,
   "metadata": {},
   "outputs": [
    {
     "name": "stdout",
     "output_type": "stream",
     "text": [
      "Output 1: ['9001 discuss.leetcode.com', '9001 leetcode.com', '9001 com']\n",
      "Output 2: ['900 google.mail.com', '901 mail.com', '951 com', '50 yahoo.com', '1 intel.mail.com', '5 wiki.org', '5 org']\n"
     ]
    }
   ],
   "source": [
    "def subdomainVisits(cpdomains):\n",
    "    domains_counts = {}\n",
    "    for item in cpdomains:\n",
    "        count, domains = item.split(' ')\n",
    "        domain_list = domains.split('.')\n",
    "        for i in range(0, len(domain_list)):\n",
    "            domain = '.'.join(domain_list[i:])\n",
    "            if domain not in domains_counts:\n",
    "                domains_counts[domain] = int(count)\n",
    "            else:\n",
    "                domains_counts[domain] += int(count)\n",
    "        \n",
    "    # format our output\n",
    "    out = []\n",
    "    for domain, count in domains_counts.items():\n",
    "        out.append(f'{count} {domain}')\n",
    "    return out\n",
    "\n",
    "input1 = [\"9001 discuss.leetcode.com\"]\n",
    "input2 = [\"900 google.mail.com\", \"50 yahoo.com\", \"1 intel.mail.com\", \"5 wiki.org\"]\n",
    "print(f'Output 1: {subdomainVisits(input1)}')\n",
    "print(f'Output 2: {subdomainVisits(input2)}')"
   ]
  },
  {
   "cell_type": "markdown",
   "metadata": {},
   "source": [
    "### 1319. Number of Operations to Make Network Connected\n",
    "\n",
    "URL: https://leetcode.com/problems/number-of-operations-to-make-network-connected/<br>\n",
    "\n",
    "There are n computers numbered from 0 to n-1 connected by ethernet cables connections forming a network where connections[i] = [a, b] represents a connection between computers a and b. Any computer can reach any other computer directly or indirectly through the network.\n",
    "\n",
    "Given an initial computer network connections. You can extract certain cables between two directly connected computers, and place them between any pair of disconnected computers to make them directly connected. Return the minimum number of times you need to do this in order to make all the computers connected. If it's not possible, return -1. "
   ]
  },
  {
   "cell_type": "code",
   "execution_count": 15,
   "metadata": {},
   "outputs": [
    {
     "name": "stdout",
     "output_type": "stream",
     "text": [
      "Input: n = 6, connections = [[0, 1], [0, 2], [0, 3], [1, 2], [1, 3]]\n",
      "Output: 2\n",
      "Input: n = 6, connections = [[0, 1], [0, 2], [0, 3], [1, 2]]\n",
      "Output: -1\n"
     ]
    }
   ],
   "source": [
    "def find_root(conn, parents):\n",
    "    if parents[conn] == conn:\n",
    "        return conn\n",
    "    return find_root(parents[conn], parents)\n",
    "\n",
    "def check_connected(conn1, conn2, parents):\n",
    "    parent1 = find_root(conn1, parents)\n",
    "    parent2 = find_root(conn2, parents)\n",
    "    if parent1 == parent2:\n",
    "        return True\n",
    "    elif parent1 > parent2:\n",
    "        parents[parent1] = parent2\n",
    "    else:\n",
    "        parents[parent2] = parent1\n",
    "    return False\n",
    "\n",
    "def make_connected(n, connections):\n",
    "    # first find number of redundant connections\n",
    "    redundant = 0\n",
    "    parents = [i for i in range(0, n)]\n",
    "    for conn in connections:\n",
    "        redundant = redundant + 1 if check_connected(conn[0], conn[1], parents) else redundant\n",
    "    \n",
    "    # check number of disconnected groups\n",
    "    parents_dict = {}\n",
    "    for i in range(0, n):\n",
    "        parent = find_root(i, parents)\n",
    "        parents_dict[parent] = 1\n",
    "\n",
    "    # see if possible\n",
    "    if len(parents_dict) - 1 > redundant:\n",
    "        return -1\n",
    "    return len(parents_dict) - 1\n",
    "\n",
    "n = 6\n",
    "connections = [[0,1],[0,2],[0,3],[1,2],[1,3]]\n",
    "print(f'Input: n = {n}, connections = {connections}')\n",
    "print(f'Output: {make_connected(n, connections)}')\n",
    "n = 6\n",
    "connections = [[0,1],[0,2],[0,3],[1,2]]\n",
    "print(f'Input: n = {n}, connections = {connections}')\n",
    "print(f'Output: {make_connected(n, connections)}')\n"
   ]
  },
  {
   "cell_type": "markdown",
   "metadata": {},
   "source": [
    "### 718. Maximum Length of Repeated Subarray\n",
    "\n",
    "Given two integer arrays nums1 and nums2, return the maximum length of a subarray that appears in both arrays.\n"
   ]
  },
  {
   "cell_type": "code",
   "execution_count": 16,
   "metadata": {},
   "outputs": [
    {
     "name": "stdout",
     "output_type": "stream",
     "text": [
      "Output1: 3\n",
      "Output2: 5\n"
     ]
    }
   ],
   "source": [
    "def findLength(nums1, nums2):\n",
    "        # memo = [[0] * (len(nums2) + 1) for _ in range(len(nums1) + 1)]\n",
    "        memo = []\n",
    "        for i in range(0,len(nums1)+1):\n",
    "            memo.append([0]*(len(nums2)+1))\n",
    "        for i in range(len(nums1) - 1, -1, -1):\n",
    "            for j in range(len(nums2) - 1, -1, -1):\n",
    "                if nums1[i] == nums2[j]:\n",
    "                    memo[i][j] = memo[i + 1][j + 1] + 1\n",
    "                    \n",
    "        max_len = 0\n",
    "        for row in memo:\n",
    "            max_len = max(max(row), max_len)\n",
    "        return max_len\n",
    "        # return max(max(row) for row in memo)\n",
    "\n",
    "input1a = [1,2,3,2,1]\n",
    "input1b = [3,2,1,4,7]\n",
    "input2a = [0,0,0,0,0]\n",
    "input2b = [0,0,0,0,0]\n",
    "print(f'Output1: {findLength(input1a, input1b)}')\n",
    "print(f'Output2: {findLength(input2a, input2b)}')"
   ]
  },
  {
   "cell_type": "markdown",
   "metadata": {},
   "source": [
    "### 1698. Number of Distinct Substrings in a String\n",
    "\n",
    "URL: https://leetcode.com/problems/number-of-distinct-substrings-in-a-string/<br>\n"
   ]
  },
  {
   "cell_type": "code",
   "execution_count": 17,
   "metadata": {},
   "outputs": [
    {
     "name": "stdout",
     "output_type": "stream",
     "text": [
      "Input: abc\n",
      "Num Distinct Substrings: 6\n",
      "Input: ababa\n",
      "Num Distinct Substrings: 9\n",
      "Input: abcdefghijklmnopqrstuvwxyz\n",
      "Num Distinct Substrings: 351\n"
     ]
    }
   ],
   "source": [
    "class Node:\n",
    "    def __init__(self):\n",
    "        self.children = {}\n",
    "\n",
    "    def insert_suffix(self, word):\n",
    "        if len(word) > 0:\n",
    "            char = word[0]\n",
    "            if char not in self.children:\n",
    "                self.children[char] = Node()\n",
    "            if len(word) > 1:\n",
    "                self.children[char].insert_suffix(word[1:])\n",
    "    \n",
    "class Tree:\n",
    "    def __init__(self):\n",
    "        self.root = Node()\n",
    "        \n",
    "    \n",
    "    def count_nodes(self, node):\n",
    "        count = 1\n",
    "        for child in node.children:\n",
    "            count += self.count_nodes(node.children[child])\n",
    "        return count\n",
    "\n",
    "    def solve(self, word):\n",
    "        self.root = Node()  # reset tree\n",
    "        for i in range(0, len(word)):\n",
    "            self.root.insert_suffix(word[i:])\n",
    "        \n",
    "        return self.count_nodes(self.root) - 1  # subtract 1 because root is not character\n",
    "        \n",
    "tree = Tree()\n",
    "print('Input: abc')\n",
    "print(f'Num Distinct Substrings: {tree.solve(\"abc\")}')\n",
    "print('Input: ababa')\n",
    "print(f'Num Distinct Substrings: {tree.solve(\"ababa\")}')\n",
    "print('Input: abcdefghijklmnopqrstuvwxyz')\n",
    "print(f'Num Distinct Substrings: {tree.solve(\"abcdefghijklmnopqrstuvwxyz\")}')"
   ]
  },
  {
   "cell_type": "markdown",
   "metadata": {},
   "source": [
    "### 20.\n",
    "\n",
    "URL: https://leetcode.com/problems/valid-parentheses/\n",
    "\n",
    "Given a string s containing just the characters '(', ')', '{', '}', '[' and ']', determine if the input string is valid.\n",
    "\n",
    "An input string is valid if:\n",
    "\n",
    "Open brackets must be closed by the same type of brackets.\n",
    "Open brackets must be closed in the correct order."
   ]
  },
  {
   "cell_type": "code",
   "execution_count": 18,
   "metadata": {},
   "outputs": [
    {
     "name": "stdout",
     "output_type": "stream",
     "text": [
      "True\n",
      "False\n",
      "False\n",
      "True\n"
     ]
    }
   ],
   "source": [
    "def is_valid_parenthesis(string):\n",
    "        l_parenthesis = []\n",
    "        paren_match = {'(': ')', '[': ']', '{': '}'}\n",
    "        for char in string:\n",
    "            if char in paren_match.keys():\n",
    "                l_parenthesis.append(char)\n",
    "            if char in paren_match.values():\n",
    "                if l_parenthesis:\n",
    "                    if paren_match[l_parenthesis.pop()] is not char:\n",
    "                        return False\n",
    "                else:\n",
    "                    return False\n",
    "        if l_parenthesis:\n",
    "            return False # still have unmatched left parenthesis, not valid\n",
    "        \n",
    "        return True\n",
    "\n",
    "print(is_valid_parenthesis('(()[])'))\n",
    "print(is_valid_parenthesis('('))\n",
    "print(is_valid_parenthesis('{}[]())'))\n",
    "print(is_valid_parenthesis('{}(([][]{()}))'))"
   ]
  },
  {
   "cell_type": "markdown",
   "metadata": {},
   "source": [
    "### 1465. Maximum Area of a Piece of Cake After Horizontal and Vertical Cuts\n",
    "\n",
    "URL: https://leetcode.com/problems/maximum-area-of-a-piece-of-cake-after-horizontal-and-vertical-cuts/\n",
    "\n",
    "You are given a rectangular cake of size h x w and two arrays of integers horizontalCuts and verticalCuts where:\n",
    " - horizontalCuts[i] is the distance from the top of the rectangular cake to the ith horizontal cut and similarly, and\n",
    " - verticalCuts[j] is the distance from the left of the rectangular cake to the jth vertical cut.\n",
    "\n",
    "Return the maximum area of a piece of cake after you cut at each horizontal and vertical position provided in the arrays horizontalCuts and verticalCuts. Since the answer can be a large number, return this modulo 10^9 + 7.\n"
   ]
  },
  {
   "cell_type": "code",
   "execution_count": 2,
   "metadata": {},
   "outputs": [
    {
     "name": "stdout",
     "output_type": "stream",
     "text": [
      "4\n",
      "6\n",
      "9\n"
     ]
    }
   ],
   "source": [
    "def max_area(h, w, horizontalCuts, verticalCuts):\n",
    "    return (max_slice(horizontalCuts, h) * max_slice(verticalCuts, w)) % (10**9 + 7)\n",
    "    \n",
    "def max_slice(arr, dim):\n",
    "    arr.sort()\n",
    "    arr.append(dim)\n",
    "    max_dim = arr[0]\n",
    "    for i in range(1, len(arr)):\n",
    "        max_dim = max(arr[i] - arr[i-1], max_dim)\n",
    "    return max_dim\n",
    "\n",
    "print(max_area(h = 5, w = 4, horizontalCuts = [1,2,4], verticalCuts = [1,3]))\n",
    "print(max_area(h = 5, w = 4, horizontalCuts = [3,1], verticalCuts = [1]))\n",
    "print(max_area(h = 5, w = 4, horizontalCuts = [3], verticalCuts = [3]))\n",
    "        "
   ]
  },
  {
   "cell_type": "markdown",
   "metadata": {},
   "source": [
    "### 1507. Reformat Date\n",
    "\n",
    "URL: https://leetcode.com/problems/reformat-date/\n",
    "\n",
    "Given a date string in the form Day Month Year, where:\n",
    "- Day is in the set {\"1st\", \"2nd\", \"3rd\", \"4th\", ..., \"30th\", \"31st\"}.\n",
    "- Month is in the set {\"Jan\", \"Feb\", \"Mar\", \"Apr\", \"May\", \"Jun\", \"Jul\", \"Aug\", \"Sep\", \"Oct\", \"Nov\", \"Dec\"}.\n",
    "- Year is in the range [1900, 2100].\n",
    "\n",
    "Convert the date string to the format YYYY-MM-DD, where:\n",
    "- YYYY denotes the 4 digit year.\n",
    "- MM denotes the 2 digit month.\n",
    "- DD denotes the 2 digit day."
   ]
  },
  {
   "cell_type": "code",
   "execution_count": 6,
   "metadata": {},
   "outputs": [
    {
     "name": "stdout",
     "output_type": "stream",
     "text": [
      "2052-10-20\n",
      "1933-06-06\n",
      "1960-05-26\n"
     ]
    }
   ],
   "source": [
    "def reformatDate(date):\n",
    "        months_dict = {\"Jan\": '01', \"Feb\": '02', \"Mar\": '03', \"Apr\": '04', \"May\": '05', \"Jun\": '06', \"Jul\": '07', \"Aug\": '08', \"Sep\": '09', \"Oct\": '10', \"Nov\": '11', \"Dec\": '12'}\n",
    "        \n",
    "        day_mon_year = date.split(' ')\n",
    "        day = day_mon_year[0][:-2]\n",
    "        if len(day) == 1:\n",
    "            day = '0' + day\n",
    "        return f'{day_mon_year[2]}-{months_dict[day_mon_year[1]]}-{day}'\n",
    "    \n",
    "print(reformatDate(date = \"20th Oct 2052\"))\n",
    "print(reformatDate(date = \"6th Jun 1933\"))\n",
    "print(reformatDate(date = \"26th May 1960\"))\n"
   ]
  },
  {
   "cell_type": "markdown",
   "metadata": {},
   "source": [
    "### 122. Best Time to Buy and Sell Stock II\n",
    "\n",
    "URL: https://leetcode.com/problems/best-time-to-buy-and-sell-stock-ii/\n",
    "\n",
    "You are given an integer array prices where prices[i] is the price of a given stock on the ith day.\n",
    "\n",
    "On each day, you may decide to buy and/or sell the stock. You can only hold at most one share of the stock at any time. However, you can buy it then immediately sell it on the same day.\n",
    "\n",
    "Find and return the maximum profit you can achieve."
   ]
  },
  {
   "cell_type": "code",
   "execution_count": 7,
   "metadata": {},
   "outputs": [
    {
     "name": "stdout",
     "output_type": "stream",
     "text": [
      "7\n",
      "4\n",
      "0\n"
     ]
    }
   ],
   "source": [
    "def maxProfit(prices):\n",
    "        profit = 0\n",
    "        for i in range(1, len(prices)):\n",
    "            diff = prices[i] - prices[i-1]\n",
    "            if prices[i] - prices[i-1] > 0:\n",
    "                profit += prices[i] - prices[i-1]\n",
    "        return profit\n",
    "\n",
    "print(maxProfit(prices = [7,1,5,3,6,4]))\n",
    "print(maxProfit(prices = [1,2,3,4,5]))\n",
    "print(maxProfit(prices = [7,6,4,3,1]))"
   ]
  },
  {
   "cell_type": "markdown",
   "metadata": {},
   "source": [
    "### 33. Search in Rotated Sorted Array\n",
    "\n",
    "URL: https://leetcode.com/problems/search-in-rotated-sorted-array/\n",
    "\n",
    "There is an integer array nums sorted in ascending order (with distinct values).\n",
    "\n",
    "Prior to being passed to your function, nums is possibly rotated at an unknown pivot index k (1 <= k < nums.length) such that the resulting array is [nums[k], nums[k+1], ..., nums[n-1], nums[0], nums[1], ..., nums[k-1]] (0-indexed). For example, [0,1,2,4,5,6,7] might be rotated at pivot index 3 and become [4,5,6,7,0,1,2].\n",
    "\n",
    "Given the array nums after the possible rotation and an integer target, return the index of target if it is in nums, or -1 if it is not in nums.\n",
    "\n",
    "You must write an algorithm with O(log n) runtime complexity.\n"
   ]
  },
  {
   "cell_type": "code",
   "execution_count": 1,
   "metadata": {},
   "outputs": [
    {
     "name": "stdout",
     "output_type": "stream",
     "text": [
      "4\n",
      "-1\n",
      "-1\n"
     ]
    }
   ],
   "source": [
    "def search(nums, target):\n",
    "    rot_idx = find_lowest_val_idx(nums, 0, len(nums) - 1)\n",
    "    if target >= nums[rot_idx] and target <= nums[-1]:\n",
    "        return binary_search(nums, rot_idx, len(nums) - 1, target)\n",
    "    else:\n",
    "        return binary_search(nums, 0, rot_idx - 1, target)\n",
    "    \n",
    "def find_lowest_val_idx(nums, l_idx, r_idx):\n",
    "    if r_idx > l_idx:\n",
    "        mid_pt = l_idx + (r_idx - l_idx) // 2\n",
    "        if nums[mid_pt] < nums[r_idx]:  \n",
    "            return find_lowest_val_idx(nums, l_idx, mid_pt)  # search left half, don't subtract 1 from mid_pt (could be lowest)\n",
    "        else:\n",
    "            return find_lowest_val_idx(nums, mid_pt + 1, r_idx)  # search right half, don't need to check mid_pt again since r is lower\n",
    "    else:\n",
    "        return l_idx  # completed search\n",
    "    \n",
    "def binary_search(nums, l_idx, r_idx, target):\n",
    "    if r_idx >= l_idx:\n",
    "        mid_pt = l_idx + (r_idx - l_idx) // 2\n",
    "        if nums[mid_pt] == target:\n",
    "            return mid_pt\n",
    "        elif nums[mid_pt] > target:\n",
    "            return binary_search(nums, l_idx, mid_pt - 1, target)  # search left half\n",
    "        else:\n",
    "            return binary_search(nums, mid_pt + 1, r_idx, target)  # search right half\n",
    "    else:\n",
    "        return -1  # array slice size is 1 (r_idx == l_idx) --> not in array\n",
    "\n",
    "\n",
    "print(search(nums = [4,5,6,7,0,1,2], target = 0))\n",
    "print(search(nums = [4,5,6,7,0,1,2], target = 3))\n",
    "print(search(nums = [1], target = 0))"
   ]
  },
  {
   "cell_type": "markdown",
   "metadata": {},
   "source": [
    "### 419. Battleships in a Board\n",
    "\n",
    "URL: https://leetcode.com/problems/battleships-in-a-board/\n",
    "\n",
    "Given an m x n matrix board where each cell is a battleship 'X' or empty '.', return the number of the battleships on board.\n",
    "\n",
    "Battleships can only be placed horizontally or vertically on board. In other words, they can only be made of the shape 1 x k (1 row, k columns) or k x 1 (k rows, 1 column), where k can be of any size. At least one horizontal or vertical cell separates between two battleships (i.e., there are no adjacent battleships).\n"
   ]
  },
  {
   "cell_type": "code",
   "execution_count": 1,
   "metadata": {},
   "outputs": [
    {
     "name": "stdout",
     "output_type": "stream",
     "text": [
      "2\n",
      "0\n"
     ]
    }
   ],
   "source": [
    "def count_battleships(board):\n",
    "    \"\"\"\n",
    "    :type board: List[List[str]]\n",
    "    :rtype: int\n",
    "    \"\"\"\n",
    "    total_ships = 0\n",
    "    for i in range(0, len(board)):\n",
    "        for j in range(0, len(board[i])):\n",
    "            if board[i][j] == 'X':  # current i,j must be ship piece\n",
    "                if i == 0 or board[i-1][j] != 'X':  # must be furthest left\n",
    "                    if j == 0 or board[i][j-1] != 'X':  # must be furthest down\n",
    "                        total_ships += 1\n",
    "    return total_ships\n",
    "\n",
    "print(count_battleships(board = [[\"X\",\".\",\".\",\"X\"],[\".\",\".\",\".\",\"X\"],[\".\",\".\",\".\",\"X\"]]))\n",
    "print(count_battleships(board = [[\".\"]]))\n",
    "        "
   ]
  }
 ],
 "metadata": {
  "interpreter": {
   "hash": "52774b798c40528f530de7657fd1851e18ea3fd46ccdf10ced65da4d8da447ac"
  },
  "kernelspec": {
   "display_name": "Python 3.9.5 64-bit",
   "language": "python",
   "name": "python3"
  },
  "language_info": {
   "codemirror_mode": {
    "name": "ipython",
    "version": 3
   },
   "file_extension": ".py",
   "mimetype": "text/x-python",
   "name": "python",
   "nbconvert_exporter": "python",
   "pygments_lexer": "ipython3",
   "version": "3.8.2"
  },
  "orig_nbformat": 4
 },
 "nbformat": 4,
 "nbformat_minor": 2
}

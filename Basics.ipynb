{
 "cells": [
  {
   "cell_type": "markdown",
   "metadata": {},
   "source": [
    "# Data Structures and Algorithms Basics\n",
    "\n",
    "___\n",
    "\n",
    "## Algorithms\n",
    "\n",
    "___\n",
    "\n",
    "### Merge Sort\n",
    "\n",
    "Works by dividing the input array in half, and then calling itself for the two halves. The function merge() is then called on the two halves, which assumes the two input halves are already sorted.<br>\n",
    "Time Complexity: O(nLogn)<br>\n",
    "Space Complexity: O(n)<br>\n",
    "Pro: Good for linked lists<br>\n",
    "Con: Relatively slow and runs entire algorithm for sorted array<br>"
   ]
  },
  {
   "cell_type": "code",
   "execution_count": 10,
   "metadata": {},
   "outputs": [
    {
     "name": "stdout",
     "output_type": "stream",
     "text": [
      "Original Array: [1, 8, 10, 12, 14, 16, 8, 29, 10, -3]\n",
      "Sorted Array: [-3, 1, 8, 8, 10, 10, 12, 14, 16, 29]\n"
     ]
    }
   ],
   "source": [
    "def merge_sort(arr):\n",
    "    if len(arr) > 1:\n",
    "        L_half = arr[:len(arr) // 2]\n",
    "        R_half = arr[len(arr) // 2:]\n",
    "        merge_sort(L_half)\n",
    "        merge_sort(R_half)\n",
    "        merge(L_half, R_half, arr)\n",
    "\n",
    "def merge(L, R, arr):\n",
    "    i = j = k = 0\n",
    "    while i < len(L) and j < len(R):\n",
    "        if L[i] < R[j]:\n",
    "            arr[k] = L[i]\n",
    "            i += 1\n",
    "        else:\n",
    "            arr[k] = R[j]\n",
    "            j += 1\n",
    "        k += 1\n",
    "    while i < len(L):\n",
    "        arr[k] = L[i]\n",
    "        i += 1\n",
    "        k += 1\n",
    "    while j < len(R):\n",
    "        arr[k] = R[j]\n",
    "        j += 1\n",
    "        k += 1\n",
    "\n",
    "def print_array(arr):\n",
    "    print('[', end='')\n",
    "    for i in range(0, len(arr)):\n",
    "        if i != len(arr) - 1:\n",
    "            print(arr[i], end=', ')\n",
    "        else:\n",
    "            print(f'{arr[i]}]')\n",
    "    \n",
    "arr = [1, 8, 10, 12, 14, 16, 8, 29, 10, -3]\n",
    "print('Original Array: ', end='')\n",
    "print_array(arr)\n",
    "merge_sort(arr)\n",
    "print('Sorted Array: ', end='')\n",
    "print_array(arr)\n"
   ]
  },
  {
   "cell_type": "markdown",
   "metadata": {},
   "source": [
    "### Breadth First Search\n",
    "\n",
    "Algorithm for searching a tree data structure for a node that satisfies a given property. Starts at root of the tree and explores all nodes at the present depth prior to moving on to next level<br>\n",
    "\n",
    "Time Complexity: O(V + E)"
   ]
  },
  {
   "cell_type": "code",
   "execution_count": 11,
   "metadata": {},
   "outputs": [
    {
     "name": "stdout",
     "output_type": "stream",
     "text": [
      "Depth First Search from Vertex 2: 2 0 3 1 \n",
      "Depth First Search from Vertex 0: 0 1 2 3 \n"
     ]
    }
   ],
   "source": [
    "class Graph:\n",
    "    def __init__(self, edges):\n",
    "        self.graph = {}\n",
    "        self.add_edges(edges)\n",
    "    \n",
    "    def add_edges(self, edges):\n",
    "        for (u, v) in edges:\n",
    "            if u not in self.graph:\n",
    "                self.graph[u] = [v]\n",
    "            else:\n",
    "                self.graph[u].append(v)\n",
    "    \n",
    "    def bfs(self, root):\n",
    "        num_nodes = max(self.graph) + 1\n",
    "        visited = [False] * num_nodes\n",
    "        queue = []\n",
    "        queue.append(root)\n",
    "        visited[root] = True\n",
    "        while queue:\n",
    "            node = queue.pop(0)\n",
    "            print(node, end = ' ')\n",
    "\n",
    "            # Get vertices adjactent to dequeued vertex\n",
    "            # Queue all that have not been visited and mark as visited\n",
    "            for i in self.graph[node]:\n",
    "                if visited[i] == False:\n",
    "                    queue.append(i)\n",
    "                    visited[i] = True\n",
    "        print('')\n",
    "\n",
    "graph = Graph([[0,1],[0,2],[1,2],[2,0],[2,3],[3,3]])\n",
    "print(f'Depth First Search from Vertex 2: ', end='')\n",
    "graph.bfs(2)\n",
    "print(f'Depth First Search from Vertex 0: ', end='')\n",
    "graph.bfs(0)"
   ]
  },
  {
   "cell_type": "markdown",
   "metadata": {},
   "source": [
    "### Depth-First Search\n",
    "\n",
    "Algorithm for searching a tree. Starts at root of the tree and explores as far as possible along each branch before backtracking\n",
    "\n",
    "Time Complexity: O(V + E)"
   ]
  },
  {
   "cell_type": "code",
   "execution_count": 12,
   "metadata": {},
   "outputs": [
    {
     "name": "stdout",
     "output_type": "stream",
     "text": [
      "Depth First Search from Vertex 2: 2 0 1 3 \n",
      "Depth First Search from Vertex 0: 0 1 2 3 \n"
     ]
    }
   ],
   "source": [
    "class Graph:\n",
    "    def __init__(self, edges=[]):\n",
    "        self.graph = {}\n",
    "        self.add_edges(edges)\n",
    " \n",
    "    def add_edges(self, edges):\n",
    "        for (u, v) in edges:\n",
    "            if u not in self.graph:\n",
    "                self.graph[u] = [v]\n",
    "            else:\n",
    "                self.graph[u].append(v)\n",
    " \n",
    "    # Recursive function used by DFS\n",
    "    def dfs_node(self, v, visited):\n",
    " \n",
    "        # mark the current node as visited\n",
    "        visited.append(v)\n",
    "        print(v, end=' ')\n",
    " \n",
    "        # Recur for all the vertices adjacent to this vertex\n",
    "        for node in self.graph[v]:\n",
    "            if node not in visited:\n",
    "                self.dfs_node(node, visited)\n",
    " \n",
    "    def dfs(self, node):\n",
    " \n",
    "        visited = []\n",
    " \n",
    "        self.dfs_node(node, visited)\n",
    "        print()\n",
    "\n",
    "graph = Graph([[0,1],[0,2],[1,2],[2,0],[2,3],[3,3]])\n",
    "print(f'Depth First Search from Vertex 2: ', end='')\n",
    "graph.dfs(2)\n",
    "print(f'Depth First Search from Vertex 0: ', end='')\n",
    "graph.dfs(0)\n"
   ]
  },
  {
   "cell_type": "markdown",
   "metadata": {},
   "source": [
    "### Binary Search\n",
    "\n",
    "Efficient algorithm for finding an item from a sorted list of items by repeatedly dividing the search interval in half. If value of search key is less than the item in the middle of the interval, check middle of lower half; otherwise, check middle of upper half.<br>\n",
    "Time complexity: O(Logn)"
   ]
  },
  {
   "cell_type": "code",
   "execution_count": 13,
   "metadata": {},
   "outputs": [
    {
     "name": "stdout",
     "output_type": "stream",
     "text": [
      "Binary Search of 14: 7\n",
      "Binary Search of -3: 0\n",
      "Binary Search of 32: -1\n"
     ]
    }
   ],
   "source": [
    "def binary_search(arr, l_idx, r_idx, val):\n",
    "    if r_idx >= l_idx:\n",
    "        midpt = l_idx + (r_idx - l_idx) // 2\n",
    "        if arr[midpt] == val:\n",
    "            return midpt\n",
    "        elif arr[midpt] > val:\n",
    "            return binary_search(arr, l_idx, midpt - 1, val)  # already searched midpt, don't include idx\n",
    "        else:\n",
    "            return binary_search(arr, midpt + 1, r_idx, val)  # already searched midpt, don't include idx\n",
    "    else:\n",
    "        return -1  # item not present in array\n",
    "\n",
    "arr = [-3, 1, 8, 8, 10, 10, 12, 14, 16, 29]\n",
    "print(f'Binary Search of 14: {binary_search(arr, 0, len(arr)-1, 14)}')\n",
    "print(f'Binary Search of -3: {binary_search(arr, 0, len(arr)-1, -3)}')\n",
    "print(f'Binary Search of 32: {binary_search(arr, 0, len(arr)-1, 32)}')\n"
   ]
  },
  {
   "cell_type": "markdown",
   "metadata": {},
   "source": [
    "## Data Structures\n",
    "\n",
    "___\n",
    "\n",
    "### Array/List\n",
    "\n",
    "Collection of items of the same type stored in contiguous memory locations.<br>\n",
    "Pros:\n",
    "- Can look up items by index in O(1) time\n",
    "- Can append in O(1) time if array has space\n",
    "\n",
    "Cons:\n",
    "- Fixed size (unless using a dynamic array)'\n",
    "- Insertion and deletion is very slow (O(n) in worst-case scenario)\n",
    "\n",
    "### Hash Table\n",
    "\n",
    "Data structure which stores data in an associative manner. Data is stored in an array format, where each data value has its own unique index. A hashing function is used to genereate an index. Usually to deal with collisions, arrays have pointers to linked lists holding all values for the key to that hash index.<br>\n",
    "Pros:\n",
    "- Fast Lookups: Take O(1) time on average\n",
    "\n",
    "Cons:\n",
    "- Slow worst-case looku: O(n) at worst case\n",
    "- Unordered\n",
    "\n",
    "### Tree\n",
    "\n",
    "Non-linear data structure of nodes where each node can hold additional children nodes. All nodes traceback to the root node. Usually implemented by a node having a pointer to a child and a linked list of all its sibling children.<br>\n",
    "Edges are the links between nodes.<br>\n",
    "A nodes height is the number edges between itself and the root node.\n",
    "\n",
    "### Graph\n",
    "\n",
    "Representation of a set of objects where some pairs of objects are connected by links. Objects are termed vertices and the links between them are edges. Can be implemented in many ways, one of which is as a list of all edges in the graph\n",
    "\n",
    "### Stack\n",
    "\n",
    "Stores items in Last-In, First-Out (LIFO) order. All operations take O(1) time. Can be implemented as a linked list or dynamic array.\n",
    "\n",
    "### Queue\n",
    "\n",
    "Stores items in First-In, First-Out (FIFO) order. All queue operations take O(1) time. Usually implemented with linked lists (enqueue: insert at tail, dequeue: remove at head)\n",
    "\n",
    "### Heap\n",
    "\n",
    "Tree-based data structure in which the tree is a complete binary tree. Max heaps have the max value at the root of the tree and min heaps have the min value at the root of the tree."
   ]
  }
 ],
 "metadata": {
  "interpreter": {
   "hash": "52774b798c40528f530de7657fd1851e18ea3fd46ccdf10ced65da4d8da447ac"
  },
  "kernelspec": {
   "display_name": "Python 3.9.5 64-bit",
   "language": "python",
   "name": "python3"
  },
  "language_info": {
   "codemirror_mode": {
    "name": "ipython",
    "version": 3
   },
   "file_extension": ".py",
   "mimetype": "text/x-python",
   "name": "python",
   "nbconvert_exporter": "python",
   "pygments_lexer": "ipython3",
   "version": "3.8.2"
  },
  "orig_nbformat": 4
 },
 "nbformat": 4,
 "nbformat_minor": 2
}

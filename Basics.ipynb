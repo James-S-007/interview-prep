{
 "cells": [
  {
   "cell_type": "markdown",
   "metadata": {},
   "source": [
    "# Interview Prep\n",
    "\n",
    "___\n",
    "\n",
    "## Suggested Topics\n",
    "\n",
    "___\n",
    "\n",
    "### Merge Sort\n",
    "\n",
    "Works by dividing the input array in half, and then calling itself for the two halves. The function merge() is then called on the two halves, which assumes the two input halves are already sorted.<br>\n",
    "Time Complexity: O(nLogn)<br>\n",
    "Space Complexity: O(n)<br>\n",
    "Pro: Good for linked lists<br>\n",
    "Con: Relatively slow and runs entire algorithm for sorted array<br>"
   ]
  },
  {
   "cell_type": "code",
   "execution_count": 9,
   "metadata": {},
   "outputs": [
    {
     "name": "stdout",
     "output_type": "stream",
     "text": [
      "Original Array: [1, 8, 10, 12, 14, 16, 8, 29, 10, -3]\n",
      "Sorted Array: [-3, 1, 8, 8, 10, 10, 12, 14, 16, 29]\n"
     ]
    }
   ],
   "source": [
    "def merge_sort(arr):\n",
    "    if len(arr) > 1:\n",
    "        L_half = arr[:len(arr) // 2]\n",
    "        R_half = arr[len(arr) // 2:]\n",
    "        merge_sort(L_half)\n",
    "        merge_sort(R_half)\n",
    "        merge(L_half, R_half, arr)\n",
    "\n",
    "def merge(L, R, arr):\n",
    "    i = j = k = 0\n",
    "    while i < len(L) and j < len(R):\n",
    "        if L[i] < R[j]:\n",
    "            arr[k] = L[i]\n",
    "            i += 1\n",
    "        else:\n",
    "            arr[k] = R[j]\n",
    "            j += 1\n",
    "        k += 1\n",
    "    while i < len(L):\n",
    "        arr[k] = L[i]\n",
    "        i += 1\n",
    "        k += 1\n",
    "    while j < len(R):\n",
    "        arr[k] = R[j]\n",
    "        j += 1\n",
    "        k += 1\n",
    "\n",
    "def print_array(arr):\n",
    "    print('[', end='')\n",
    "    for i in range(0, len(arr)):\n",
    "        if i != len(arr) - 1:\n",
    "            print(arr[i], end=', ')\n",
    "        else:\n",
    "            print(f'{arr[i]}]')\n",
    "    \n",
    "arr = [1, 8, 10, 12, 14, 16, 8, 29, 10, -3]\n",
    "print('Original Array: ', end='')\n",
    "print_array(arr)\n",
    "merge_sort(arr)\n",
    "print('Sorted Array: ', end='')\n",
    "print_array(arr)\n"
   ]
  },
  {
   "cell_type": "markdown",
   "metadata": {},
   "source": [
    "### Breadth First Search\n",
    "\n",
    "Algorithm for searching a tree data structure for a node that satisfies a given property. Starts at root of the tree and explores all nodes at the present depth prior to moving on to next level<br>\n",
    "\n",
    "Time Complexity: O(V + E)"
   ]
  },
  {
   "cell_type": "code",
   "execution_count": 10,
   "metadata": {},
   "outputs": [
    {
     "name": "stdout",
     "output_type": "stream",
     "text": [
      "Depth First Search from Vertex 2: 2 0 3 1 \n",
      "Depth First Search from Vertex 0: 0 1 2 3 \n"
     ]
    }
   ],
   "source": [
    "class Graph:\n",
    "    def __init__(self, edges):\n",
    "        self.graph = {}\n",
    "        self.add_edges(edges)\n",
    "    \n",
    "    def add_edges(self, edges):\n",
    "        for (u, v) in edges:\n",
    "            if u not in self.graph:\n",
    "                self.graph[u] = [v]\n",
    "            else:\n",
    "                self.graph[u].append(v)\n",
    "    \n",
    "    def bfs(self, root):\n",
    "        num_nodes = max(self.graph) + 1\n",
    "        visited = [False] * num_nodes\n",
    "        queue = []\n",
    "        queue.append(root)\n",
    "        visited[root] = True\n",
    "        while queue:\n",
    "            node = queue.pop(0)\n",
    "            print(node, end = ' ')\n",
    "\n",
    "            # Get vertices adjactent to dequeued vertex\n",
    "            # Queue all that have not been visited and mark as visited\n",
    "            for i in self.graph[node]:\n",
    "                if visited[i] == False:\n",
    "                    queue.append(i)\n",
    "                    visited[i] = True\n",
    "        print('')\n",
    "\n",
    "graph = Graph([[0,1],[0,2],[1,2],[2,0],[2,3],[3,3]])\n",
    "print(f'Depth First Search from Vertex 2: ', end='')\n",
    "graph.bfs(2)\n",
    "print(f'Depth First Search from Vertex 0: ', end='')\n",
    "graph.bfs(0)"
   ]
  },
  {
   "cell_type": "markdown",
   "metadata": {},
   "source": [
    "### Depth-First Search\n",
    "\n",
    "Algorithm for searching a tree. Starts at root of the tree and explores as far as possible along each branch before backtracking\n",
    "\n",
    "Time Complexity: O(V + E)"
   ]
  },
  {
   "cell_type": "code",
   "execution_count": 11,
   "metadata": {},
   "outputs": [
    {
     "name": "stdout",
     "output_type": "stream",
     "text": [
      "Depth First Search from Vertex 2: 2 0 1 3 \n",
      "Depth First Search from Vertex 0: 0 1 2 3 \n"
     ]
    }
   ],
   "source": [
    "class Graph:\n",
    "    def __init__(self, edges=[]):\n",
    "        self.graph = {}\n",
    "        self.add_edges(edges)\n",
    " \n",
    "    def add_edges(self, edges):\n",
    "        for (u, v) in edges:\n",
    "            if u not in self.graph:\n",
    "                self.graph[u] = [v]\n",
    "            else:\n",
    "                self.graph[u].append(v)\n",
    " \n",
    "    # Recursive function used by DFS\n",
    "    def dfs_node(self, v, visited):\n",
    " \n",
    "        # mark the current node as visited\n",
    "        visited.append(v)\n",
    "        print(v, end=' ')\n",
    " \n",
    "        # Recur for all the vertices adjacent to this vertex\n",
    "        for node in self.graph[v]:\n",
    "            if node not in visited:\n",
    "                self.dfs_node(node, visited)\n",
    " \n",
    "    def dfs(self, node):\n",
    " \n",
    "        visited = []\n",
    " \n",
    "        self.dfs_node(node, visited)\n",
    "        print()\n",
    "\n",
    "graph = Graph([[0,1],[0,2],[1,2],[2,0],[2,3],[3,3]])\n",
    "print(f'Depth First Search from Vertex 2: ', end='')\n",
    "graph.dfs(2)\n",
    "print(f'Depth First Search from Vertex 0: ', end='')\n",
    "graph.dfs(0)\n"
   ]
  },
  {
   "cell_type": "markdown",
   "metadata": {},
   "source": [
    "### Binary Search\n",
    "\n",
    "Efficient algorithm for finding an item from a sorted list of items by repeatedly dividing the search interval in half. If value of search key is less than the item in the middle of the interval, check middle of lower half; otherwise, check middle of upper half.<br>\n",
    "Time complexity: O(Logn)"
   ]
  },
  {
   "cell_type": "code",
   "execution_count": 12,
   "metadata": {},
   "outputs": [
    {
     "name": "stdout",
     "output_type": "stream",
     "text": [
      "Binary Search of 14: 7\n",
      "Binary Search of -3: 0\n",
      "Binary Search of 32: -1\n"
     ]
    }
   ],
   "source": [
    "def binary_search(arr, l_idx, r_idx, val):\n",
    "    if r_idx >= l_idx:\n",
    "        midpt = l_idx + (r_idx - l_idx) // 2\n",
    "        if arr[midpt] == val:\n",
    "            return midpt\n",
    "        elif arr[midpt] > val:\n",
    "            return binary_search(arr, l_idx, midpt - 1, val)  # already searched midpt, don't include idx\n",
    "        else:\n",
    "            return binary_search(arr, midpt + 1, r_idx, val)  # already searched midpt, don't include idx\n",
    "    else:\n",
    "        return -1  # item not present in array\n",
    "\n",
    "arr = [-3, 1, 8, 8, 10, 10, 12, 14, 16, 29]\n",
    "print(f'Binary Search of 14: {binary_search(arr, 0, len(arr)-1, 14)}')\n",
    "print(f'Binary Search of -3: {binary_search(arr, 0, len(arr)-1, -3)}')\n",
    "print(f'Binary Search of 32: {binary_search(arr, 0, len(arr)-1, 32)}')\n"
   ]
  },
  {
   "cell_type": "markdown",
   "metadata": {},
   "source": [
    "## Data Structures\n",
    "\n",
    "___\n",
    "\n",
    "### Array/List\n",
    "\n",
    "Collection of items of the same type stored in contiguous memory locations.<br>\n",
    "Pros:\n",
    "- Can look up items by index in O(1) time\n",
    "- Can append in O(1) time if array has space\n",
    "\n",
    "Cons:\n",
    "- Fixed size (unless using a dynamic array)'\n",
    "- Insertion and deletion is very slow (O(n) in worst-case scenario)\n",
    "\n",
    "### Hash Table\n",
    "\n",
    "Data structure which stores data in an associative manner. Data is stored in an array format, where each data value has its own unique index. A hashing function is used to genereate an index. Usually to deal with collisions, arrays have pointers to linked lists holding all values for the key to that hash index.<br>\n",
    "Pros:\n",
    "- Fast Lookups: Take O(1) time on average\n",
    "\n",
    "Cons:\n",
    "- Slow worst-case looku: O(n) at worst case\n",
    "- Unordered\n",
    "\n",
    "### Tree\n",
    "\n",
    "Non-linear data structure of nodes where each node can hold additional children nodes. All nodes traceback to the root node. Usually implemented by a node having a pointer to a child and a linked list of all its sibling children.<br>\n",
    "Edges are the links between nodes.<br>\n",
    "A nodes height is the number edges between itself and the root node.\n",
    "\n",
    "### Graph\n",
    "\n",
    "Representation of a set of objects where some pairs of objects are connected by links. Objects are termed vertices and the links between them are edges. Can be implemented in many ways, one of which is as a list of all edges in the graph\n",
    "\n",
    "### Stack\n",
    "\n",
    "Stores items in Last-In, First-Out (LIFO) order. All operations take O(1) time. Can be implemented as a linked list or dynamic array.\n",
    "\n",
    "### Queue\n",
    "\n",
    "Stores items in First-In, First-Out (FIFO) order. All queue operations take O(1) time. Usually implemented with linked lists (enqueue: insert at tail, dequeue: remove at head)\n",
    "\n",
    "### Heap\n",
    "\n",
    "Tree-based data structure in which the tree is a complete binary tree. Max heaps have the max value at the root of the tree and min heaps have the min value at the root of the tree."
   ]
  },
  {
   "cell_type": "markdown",
   "metadata": {},
   "source": [
    "## Predicted Leet Code Problems\n",
    "\n",
    "___\n",
    "\n",
    "### 811. Subdomain Visit Count\n",
    "\n",
    "https://leetcode.com/problems/subdomain-visit-count/<br><br>\n",
    "\n",
    "A website domain \"discuss.leetcode.com\" consists of various subdomains. At the top level, we have \"com\", at the next level, we have \"leetcode.com\" and at the lowest level, \"discuss.leetcode.com\". When we visit a domain like \"discuss.leetcode.com\", we will also visit the parent domains \"leetcode.com\" and \"com\" implicitly.\n",
    "\n",
    "A count-paired domain is a domain that has one of the two formats \"rep d1.d2.d3\" or \"rep d1.d2\" where rep is the number of visits to the domain and d1.d2.d3 is the domain itself.\n",
    "\n",
    "For example, \"9001 discuss.leetcode.com\" is a count-paired domain that indicates that discuss.leetcode.com was visited 9001 times.\n",
    "Given an array of count-paired domains cpdomains, return an array of the count-paired domains of each subdomain in the input. You may return the answer in any order.\n"
   ]
  },
  {
   "cell_type": "code",
   "execution_count": 13,
   "metadata": {},
   "outputs": [
    {
     "name": "stdout",
     "output_type": "stream",
     "text": [
      "Output 1: ['9001 discuss.leetcode.com', '9001 leetcode.com', '9001 com']\n",
      "Output 2: ['900 google.mail.com', '901 mail.com', '951 com', '50 yahoo.com', '1 intel.mail.com', '5 wiki.org', '5 org']\n"
     ]
    }
   ],
   "source": [
    "def subdomainVisits(cpdomains):\n",
    "    domains_counts = {}\n",
    "    for item in cpdomains:\n",
    "        count, domains = item.split(' ')\n",
    "        domain_list = domains.split('.')\n",
    "        for i in range(0, len(domain_list)):\n",
    "            domain = '.'.join(domain_list[i:])\n",
    "            if domain not in domains_counts:\n",
    "                domains_counts[domain] = int(count)\n",
    "            else:\n",
    "                domains_counts[domain] += int(count)\n",
    "        \n",
    "    # format our output\n",
    "    out = []\n",
    "    for domain, count in domains_counts.items():\n",
    "        out.append(f'{count} {domain}')\n",
    "    return out\n",
    "\n",
    "input1 = [\"9001 discuss.leetcode.com\"]\n",
    "input2 = [\"900 google.mail.com\", \"50 yahoo.com\", \"1 intel.mail.com\", \"5 wiki.org\"]\n",
    "print(f'Output 1: {subdomainVisits(input1)}')\n",
    "print(f'Output 2: {subdomainVisits(input2)}')"
   ]
  },
  {
   "cell_type": "markdown",
   "metadata": {},
   "source": [
    "### 1319. Number of Operations to Make Network Connected\n",
    "\n",
    "URL: https://leetcode.com/problems/number-of-operations-to-make-network-connected/<br>\n",
    "\n",
    "There are n computers numbered from 0 to n-1 connected by ethernet cables connections forming a network where connections[i] = [a, b] represents a connection between computers a and b. Any computer can reach any other computer directly or indirectly through the network.\n",
    "\n",
    "Given an initial computer network connections. You can extract certain cables between two directly connected computers, and place them between any pair of disconnected computers to make them directly connected. Return the minimum number of times you need to do this in order to make all the computers connected. If it's not possible, return -1. "
   ]
  },
  {
   "cell_type": "code",
   "execution_count": 14,
   "metadata": {},
   "outputs": [
    {
     "name": "stdout",
     "output_type": "stream",
     "text": [
      "Input: n = 6, connections = [[0, 1], [0, 2], [0, 3], [1, 2], [1, 3]]\n",
      "Output: 2\n",
      "Input: n = 6, connections = [[0, 1], [0, 2], [0, 3], [1, 2]]\n",
      "Output: -1\n"
     ]
    }
   ],
   "source": [
    "def find_root(conn, parents):\n",
    "    if parents[conn] == conn:\n",
    "        return conn\n",
    "    return find_root(parents[conn], parents)\n",
    "\n",
    "def check_connected(conn1, conn2, parents):\n",
    "    parent1 = find_root(conn1, parents)\n",
    "    parent2 = find_root(conn2, parents)\n",
    "    if parent1 == parent2:\n",
    "        return True\n",
    "    elif parent1 > parent2:\n",
    "        parents[parent1] = parent2\n",
    "    else:\n",
    "        parents[parent2] = parent1\n",
    "    return False\n",
    "\n",
    "def make_connected(n, connections):\n",
    "    # first find number of redundant connections\n",
    "    redundant = 0\n",
    "    parents = [i for i in range(0, n)]\n",
    "    for conn in connections:\n",
    "        redundant = redundant + 1 if check_connected(conn[0], conn[1], parents) else redundant\n",
    "    \n",
    "    # check number of disconnected groups\n",
    "    parents_dict = {}\n",
    "    for i in range(0, n):\n",
    "        parent = find_root(i, parents)\n",
    "        parents_dict[parent] = 1\n",
    "\n",
    "    # see if possible\n",
    "    if len(parents_dict) - 1 > redundant:\n",
    "        return -1\n",
    "    return len(parents_dict) - 1\n",
    "\n",
    "n = 6\n",
    "connections = [[0,1],[0,2],[0,3],[1,2],[1,3]]\n",
    "print(f'Input: n = {n}, connections = {connections}')\n",
    "print(f'Output: {make_connected(n, connections)}')\n",
    "n = 6\n",
    "connections = [[0,1],[0,2],[0,3],[1,2]]\n",
    "print(f'Input: n = {n}, connections = {connections}')\n",
    "print(f'Output: {make_connected(n, connections)}')\n"
   ]
  },
  {
   "cell_type": "markdown",
   "metadata": {},
   "source": [
    "### 718. Maximum Length of Repeated Subarray\n",
    "\n",
    "Given two integer arrays nums1 and nums2, return the maximum length of a subarray that appears in both arrays.\n"
   ]
  },
  {
   "cell_type": "code",
   "execution_count": 15,
   "metadata": {},
   "outputs": [
    {
     "name": "stdout",
     "output_type": "stream",
     "text": [
      "Output1: 3\n",
      "Output2: 5\n"
     ]
    }
   ],
   "source": [
    "def findLength(nums1, nums2):\n",
    "        # memo = [[0] * (len(nums2) + 1) for _ in range(len(nums1) + 1)]\n",
    "        memo = []\n",
    "        for i in range(0,len(nums1)+1):\n",
    "            memo.append([0]*(len(nums2)+1))\n",
    "        for i in range(len(nums1) - 1, -1, -1):\n",
    "            for j in range(len(nums2) - 1, -1, -1):\n",
    "                if nums1[i] == nums2[j]:\n",
    "                    memo[i][j] = memo[i + 1][j + 1] + 1\n",
    "                    \n",
    "        max_len = 0\n",
    "        for row in memo:\n",
    "            max_len = max(max(row), max_len)\n",
    "        return max_len\n",
    "        # return max(max(row) for row in memo)\n",
    "\n",
    "input1a = [1,2,3,2,1]\n",
    "input1b = [3,2,1,4,7]\n",
    "input2a = [0,0,0,0,0]\n",
    "input2b = [0,0,0,0,0]\n",
    "print(f'Output1: {findLength(input1a, input1b)}')\n",
    "print(f'Output2: {findLength(input2a, input2b)}')"
   ]
  },
  {
   "cell_type": "markdown",
   "metadata": {},
   "source": [
    "### 1698. Number of Distinct Substrings in a String\n",
    "\n",
    "URL: https://leetcode.com/problems/number-of-distinct-substrings-in-a-string/<br>\n"
   ]
  },
  {
   "cell_type": "code",
   "execution_count": 16,
   "metadata": {},
   "outputs": [
    {
     "name": "stdout",
     "output_type": "stream",
     "text": [
      "Input: abc\n",
      "Num Distinct Substrings: 6\n",
      "Input: ababa\n",
      "Num Distinct Substrings: 9\n",
      "Input: abcdefghijklmnopqrstuvwxyz\n",
      "Num Distinct Substrings: 351\n"
     ]
    }
   ],
   "source": [
    "class Node:\n",
    "    def __init__(self):\n",
    "        self.children = {}\n",
    "\n",
    "    def insert_suffix(self, word):\n",
    "        if len(word) > 0:\n",
    "            char = word[0]\n",
    "            if char not in self.children:\n",
    "                self.children[char] = Node()\n",
    "            if len(word) > 1:\n",
    "                self.children[char].insert_suffix(word[1:])\n",
    "    \n",
    "class Tree:\n",
    "    def __init__(self):\n",
    "        self.root = Node()\n",
    "        \n",
    "    \n",
    "    def count_nodes(self, node):\n",
    "        count = 1\n",
    "        for child in node.children:\n",
    "            count += self.count_nodes(node.children[child])\n",
    "        return count\n",
    "\n",
    "    def solve(self, word):\n",
    "        self.root = Node()  # reset tree\n",
    "        for i in range(0, len(word)):\n",
    "            self.root.insert_suffix(word[i:])\n",
    "        \n",
    "        return self.count_nodes(self.root) - 1  # subtract 1 because root is not character\n",
    "        \n",
    "tree = Tree()\n",
    "print('Input: abc')\n",
    "print(f'Num Distinct Substrings: {tree.solve(\"abc\")}')\n",
    "print('Input: ababa')\n",
    "print(f'Num Distinct Substrings: {tree.solve(\"ababa\")}')\n",
    "print('Input: abcdefghijklmnopqrstuvwxyz')\n",
    "print(f'Num Distinct Substrings: {tree.solve(\"abcdefghijklmnopqrstuvwxyz\")}')"
   ]
  }
 ],
 "metadata": {
  "interpreter": {
   "hash": "52774b798c40528f530de7657fd1851e18ea3fd46ccdf10ced65da4d8da447ac"
  },
  "kernelspec": {
   "display_name": "Python 3.9.5 64-bit",
   "language": "python",
   "name": "python3"
  },
  "language_info": {
   "codemirror_mode": {
    "name": "ipython",
    "version": 3
   },
   "file_extension": ".py",
   "mimetype": "text/x-python",
   "name": "python",
   "nbconvert_exporter": "python",
   "pygments_lexer": "ipython3",
   "version": "3.9.5"
  },
  "orig_nbformat": 4
 },
 "nbformat": 4,
 "nbformat_minor": 2
}
